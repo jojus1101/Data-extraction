{
 "cells": [
  {
   "cell_type": "markdown",
   "metadata": {},
   "source": [
    "# 🧪 ETL Data Project (CSV, JSON, TXT)\n",
    "DATA INGESTION AND WRANGLING\n",
    "\n",
    "Joachim Justesen"
   ]
  },
  {
   "cell_type": "code",
   "execution_count": null,
   "metadata": {},
   "outputs": [],
   "source": [
    "# Step 1: Imports and Setup\n",
    "import pandas as pd\n",
    "import numpy as np\n",
    "import json\n",
    "import matplotlib.pyplot as plt\n",
    "import seaborn as sns\n",
    "import re\n",
    "import os\n",
    "\n",
    "# Display plots inline\n",
    "%matplotlib inline\n",
    "pd.set_option('display.max_columns', None)\n",
    "\n",
    "# Paths\n",
    "BASE_PATH = \"data\"\n",
    "CSV_FILE = os.path.join(BASE_PATH, \"structured_data.csv\")\n",
    "JSON_FILE = os.path.join(BASE_PATH, \"semi_structured_data.json\")\n",
    "TXT_FILE = os.path.join(BASE_PATH, \"unstructured_data.txt\")\n",
    "\n",
    "# Confirm paths\n",
    "for f in [CSV_FILE, JSON_FILE, TXT_FILE]:\n",
    "    assert os.path.exists(f), f\"File not found: {f}\"\n",
    "\n",
    "print(\" All files found\")"
   ]
  },
  {
   "cell_type": "code",
   "execution_count": null,
   "metadata": {},
   "outputs": [],
   "source": [
    "#  Loaders\n",
    "\n",
    "def load_csv_to_df(file_path):\n",
    "    return pd.read_csv(file_path)\n",
    "\n",
    "def load_json_to_df(file_path):\n",
    "    with open(file_path, 'r') as f:\n",
    "        data = json.load(f)\n",
    "    return pd.json_normalize(data)\n",
    "\n",
    "def load_txt_to_list(file_path):\n",
    "    with open(file_path, 'r', encoding='utf-8') as f:\n",
    "        lines = f.readlines()\n",
    "    return [line.strip() for line in lines if line.strip()]"
   ]
  },
  {
   "cell_type": "code",
   "execution_count": null,
   "metadata": {},
   "outputs": [],
   "source": [
    "#  Ingest the Data\n",
    "csv_data = load_csv_to_df(CSV_FILE)\n",
    "json_data = load_json_to_df(JSON_FILE)\n",
    "txt_data = load_txt_to_list(TXT_FILE)\n",
    "\n",
    "print(\"CSV Preview:\")\n",
    "display(csv_data.head())\n",
    "\n",
    "print(\"JSON Preview:\")\n",
    "display(json_data.head())\n",
    "\n",
    "print(\"TXT Preview:\")\n",
    "print(txt_data[:3])"
   ]
  },
  {
   "cell_type": "code",
   "execution_count": null,
   "metadata": {},
   "outputs": [],
   "source": [
    "#  Clean the Data\n",
    "\n",
    "def explore_and_clean(df):\n",
    "    print(\"Info:\")\n",
    "    display(df.info())\n",
    "    print(\"\\nMissing Values:\")\n",
    "    print(df.isnull().sum())\n",
    "    return df.dropna(thresh=len(df.columns) - 1)\n",
    "\n",
    "csv_data = explore_and_clean(csv_data)\n",
    "json_data = explore_and_clean(json_data)\n",
    "\n",
    "def clean_text(lines):\n",
    "    return [re.sub(r'[^\\w\\s]', '', line.lower()) for line in lines]\n",
    "\n",
    "txt_data = clean_text(txt_data)\n",
    "print(txt_data[:3])"
   ]
  },
  {
   "cell_type": "code",
   "execution_count": null,
   "metadata": {},
   "outputs": [],
   "source": [
    "#  Anonymisation\n",
    "\n",
    "def anonymise_column(df, column_name):\n",
    "    if column_name in df.columns:\n",
    "        df[column_name] = 'ANONYMIZED'\n",
    "    return df\n",
    "\n",
    "csv_data = anonymise_column(csv_data, \"name\")\n",
    "json_data = anonymise_column(json_data, \"profile.email\")\n",
    "\n",
    "display(csv_data.head())\n",
    "display(json_data.head())"
   ]
  },
  {
   "cell_type": "code",
   "execution_count": null,
   "metadata": {},
   "outputs": [],
   "source": [
    "#  Visualisation\n",
    "\n",
    "def visualize_data(df, column):\n",
    "    plt.figure(figsize=(8, 5))\n",
    "    sns.histplot(df[column].dropna(), kde=True)\n",
    "    plt.title(f\"Distribution of {column}\")\n",
    "    plt.xlabel(column)\n",
    "    plt.ylabel(\"Count\")\n",
    "    plt.grid(True)\n",
    "    plt.show()\n",
    "\n",
    "numeric_cols = csv_data.select_dtypes(include=np.number).columns.tolist()\n",
    "if numeric_cols:\n",
    "    visualize_data(csv_data, numeric_cols[0])"
   ]
  },
  {
   "cell_type": "code",
   "execution_count": null,
   "metadata": {},
   "outputs": [],
   "source": [
    "#  Save Clean Data\n",
    "\n",
    "csv_data.to_csv(\"cleaned_structured_data.csv\", index=False)\n",
    "json_data.to_csv(\"cleaned_semi_structured_data.csv\", index=False)\n",
    "\n",
    "with open(\"cleaned_unstructured_text.txt\", \"w\") as f:\n",
    "    for line in txt_data:\n",
    "        f.write(f\"{line}\\n\")\n",
    "\n",
    "print(\" Cleaned files saved.\")"
   ]
  },
  {
   "cell_type": "code",
   "execution_count": null,
   "metadata": {},
   "outputs": [],
   "source": []
  }
 ],
 "metadata": {
  "kernelspec": {
   "display_name": "Python [conda env:base] *",
   "language": "python",
   "name": "conda-base-py"
  },
  "language_info": {
   "codemirror_mode": {
    "name": "ipython",
    "version": 3
   },
   "file_extension": ".py",
   "mimetype": "text/x-python",
   "name": "python",
   "nbconvert_exporter": "python",
   "pygments_lexer": "ipython3",
   "version": "3.12.7"
  }
 },
 "nbformat": 4,
 "nbformat_minor": 4
}
